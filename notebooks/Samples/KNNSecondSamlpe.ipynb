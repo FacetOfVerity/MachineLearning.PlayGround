{
 "cells": [
  {
   "cell_type": "code",
   "execution_count": 42,
   "metadata": {},
   "outputs": [
    {
     "data": {
      "image/png": "[encoded data removed]",
      "text/plain": [
       "<matplotlib.figure.Figure at 0x15a8eaaccc0>"
      ]
     },
     "metadata": {},
     "output_type": "display_data"
    }
   ],
   "source": [
    "from pandas import read_csv\n",
    "import matplotlib.pyplot as plt\n",
    "dataset = read_csv(\"myData.csv\")\n",
    "fig = plt.figure()\n",
    "ax = fig.add_subplot(1,1,1)\n",
    "\n",
    "girls = dataset.loc[dataset['Gender'] == 'Female']\n",
    "boys = dataset.loc[dataset['Gender'] == 'Male']\n",
    "\n",
    "ax.scatter(girls['Height'], girls['Weight'], marker='o', color='red')\n",
    "ax.scatter(boys['Height'], boys['Weight'], marker='o')\n",
    "plt.show()\n"
   ]
  },
  {
   "cell_type": "code",
   "execution_count": 13,
   "metadata": {},
   "outputs": [
    {
     "name": "stdout",
     "output_type": "stream",
     "text": [
      "['Female' 'Female' 'Male' 'Male' 'Female']\n"
     ]
    }
   ],
   "source": [
    "from sklearn.neighbors import KNeighborsClassifier\n",
    "\n",
    "train = dataset.values[:12]\n",
    "test = dataset.values[12:]\n",
    "\n",
    "data = train[:, 1:3]\n",
    "cases = train[:, 0]\n",
    "\n",
    "classifier = KNeighborsClassifier(1, weights=\"distance\")\n",
    "classifier.fit(data, cases)\n",
    "print(classifier.predict(test[:, 1:3]))\n"
   ]
  },
  {
   "cell_type": "code",
   "execution_count": null,
   "metadata": {
    "collapsed": true
   },
   "outputs": [],
   "source": []
  },
  {
   "cell_type": "code",
   "execution_count": null,
   "metadata": {
    "collapsed": true
   },
   "outputs": [],
   "source": []
  }
 ],
 "metadata": {
  "kernelspec": {
   "display_name": "Python 3",
   "language": "python",
   "name": "python3"
  },
  "language_info": {
   "codemirror_mode": {
    "name": "ipython",
    "version": 3
   },
   "file_extension": ".py",
   "mimetype": "text/x-python",
   "name": "python",
   "nbconvert_exporter": "python",
   "pygments_lexer": "ipython3",
   "version": "3.6.1"
  }
 },
 "nbformat": 4,
 "nbformat_minor": 2
}

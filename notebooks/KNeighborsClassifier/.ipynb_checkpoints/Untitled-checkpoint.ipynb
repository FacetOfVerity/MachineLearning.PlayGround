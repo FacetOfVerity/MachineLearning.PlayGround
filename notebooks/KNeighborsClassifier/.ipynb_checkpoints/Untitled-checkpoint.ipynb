{
 "cells": [
  {
   "cell_type": "code",
   "execution_count": 16,
   "metadata": {},
   "outputs": [
    {
     "name": "stdout",
     "output_type": "stream",
     "text": [
      "[['Female' 165 64]\n",
      " ['Female' 166 60]\n",
      " ['Female' 160 64]\n",
      " ['Male' 181 81]\n",
      " ['Male' 185 83]\n",
      " ['Male' 183 85]\n",
      " ['Male' 170 90]\n",
      " ['Male' 175 77]\n",
      " ['Male' 158 72]\n",
      " ['Female' 169 63]\n",
      " ['Female' 170 63]\n",
      " ['Female' 178 62]\n",
      " ['Male' 158 76]\n",
      " ['Male' 159 92]]\n"
     ]
    }
   ],
   "source": [
    "from pandas import read_csv\n",
    "dataset = read_csv(\"myData.csv\")\n",
    "print(dataset.values)"
   ]
  },
  {
   "cell_type": "code",
   "execution_count": 21,
   "metadata": {},
   "outputs": [
    {
     "name": "stdout",
     "output_type": "stream",
     "text": [
      "['Female' 'Female' 'Male' 'Male']\n"
     ]
    }
   ],
   "source": [
    "import numpy as np\n",
    "import matplotlib.pyplot as plt\n",
    "from matplotlib.colors import ListedColormap\n",
    "from sklearn.neighbors import KNeighborsClassifier\n",
    "\n",
    "train = dataset.values[:10]\n",
    "test = dataset.values[10:]\n",
    "\n",
    "data = train[:, 1:3]\n",
    "cases = train[:, 0]\n",
    "\n",
    "n_neighbors = 1\n",
    "h = .02\n",
    "\n",
    "classifier = KNeighborsClassifier(n_neighbors, weights=\"distance\")\n",
    "classifier.fit(data, cases)\n",
    "print(classifier.predict(dataset.values[10:, 1:3]))\n"
   ]
  },
  {
   "cell_type": "code",
   "execution_count": null,
   "metadata": {
    "collapsed": true
   },
   "outputs": [],
   "source": []
  },
  {
   "cell_type": "code",
   "execution_count": null,
   "metadata": {
    "collapsed": true
   },
   "outputs": [],
   "source": []
  }
 ],
 "metadata": {
  "kernelspec": {
   "display_name": "Python 3",
   "language": "python",
   "name": "python3"
  },
  "language_info": {
   "codemirror_mode": {
    "name": "ipython",
    "version": 3
   },
   "file_extension": ".py",
   "mimetype": "text/x-python",
   "name": "python",
   "nbconvert_exporter": "python",
   "pygments_lexer": "ipython3",
   "version": "3.6.2"
  }
 },
 "nbformat": 4,
 "nbformat_minor": 2
}

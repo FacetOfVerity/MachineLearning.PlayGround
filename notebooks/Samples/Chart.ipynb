{
 "cells": [
  {
   "cell_type": "code",
   "execution_count": 10,
   "metadata": {},
   "outputs": [],
   "source": [
    "from pandas import read_csv\n",
    "import matplotlib.pyplot as plt\n",
    "dataset = read_csv(\"myData.csv\")\n",
    "\n",
    "girls = dataset.loc[dataset['Gender'] == 'Female']\n",
    "boys = dataset.loc[dataset['Gender'] == 'Male']\n",
    "\n",
    "fig = plt.figure()\n",
    "ax = fig.add_subplot(1,1,1)\n",
    "\n",
    "\n",
    "ax.scatter(girls['Height'], girls['Weight'], marker='o', color='r', label='Девушки')\n",
    "ax.scatter(boys['Height'], boys['Weight'], marker='o', color='b', label='Парни')\n",
    "ax.legend()\n",
    "ax.grid(True)\n",
    "#plt.show()\n",
    "plt.savefig('chart.png', dpi=500)"
   ]
  },
  {
   "cell_type": "code",
   "execution_count": null,
   "metadata": {
    "collapsed": true
   },
   "outputs": [],
   "source": []
  }
 ],
 "metadata": {
  "kernelspec": {
   "display_name": "Python 3",
   "language": "python",
   "name": "python3"
  },
  "language_info": {
   "codemirror_mode": {
    "name": "ipython",
    "version": 3
   },
   "file_extension": ".py",
   "mimetype": "text/x-python",
   "name": "python",
   "nbconvert_exporter": "python",
   "pygments_lexer": "ipython3",
   "version": "3.6.1"
  }
 },
 "nbformat": 4,
 "nbformat_minor": 2
}
